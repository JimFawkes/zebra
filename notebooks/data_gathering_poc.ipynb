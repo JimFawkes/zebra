{
 "cells": [
  {
   "cell_type": "code",
   "execution_count": null,
   "metadata": {},
   "outputs": [],
   "source": [
    "import cv2\n",
    "import pafy\n",
    "print(cv2.__version__)\n",
    "import av\n",
    "from pydub import AudioSegment\n",
    "import uuid\n",
    "import boto3\n",
    "import json\n"
   ]
  },
  {
   "cell_type": "code",
   "execution_count": null,
   "metadata": {},
   "outputs": [],
   "source": [
    "video_url = \"https://www.youtube.com/watch?v=pgYmY6--DjI\"\n",
    "filename = \"sharks_leaping_out_of_water\"\n",
    "dirname = 'sharks/'\n",
    "base_path = 'data/'"
   ]
  },
  {
   "cell_type": "code",
   "execution_count": null,
   "metadata": {},
   "outputs": [],
   "source": [
    "# video_url = \"https://www.youtube.com/watch?v=yqzVI0CSKCU\"\n",
    "# For now select the first streams, might want to go with the lowest quality streams\n",
    "video = pafy.new(video_url)\n",
    "video_stream = video.videostreams[0]\n",
    "audio_stream = video.audiostreams[0]\n",
    "video.title, video_stream.quality, audio_stream.quality"
   ]
  },
  {
   "cell_type": "code",
   "execution_count": null,
   "metadata": {},
   "outputs": [],
   "source": [
    "# Download the audio and video files (hardcoded as webm)\n",
    "video_filetype = '.webm'\n",
    "audio_filetype = '.webm'\n",
    "video_file_path = video_stream.download(filepath=base_path + 'video/' + dirname + filename + video_filetype)\n",
    "audio_file_path = audio_stream.download(filepath=base_path + 'audio/' + dirname + filename + audio_filetype)"
   ]
  },
  {
   "cell_type": "code",
   "execution_count": null,
   "metadata": {},
   "outputs": [],
   "source": [
    "# Get Frames from video file\n",
    "\n",
    "vidcap = cv2.VideoCapture(video_file_path)\n",
    "success,image = vidcap.read()\n",
    "count = 0\n",
    "success = True\n",
    "frame_rate = 30\n",
    "\n",
    "while success:\n",
    "    \n",
    "    success, image = vidcap.read()\n",
    "    count += 1\n",
    "    \n",
    "    if count % frame_rate * 2 == 0:\n",
    "        cv2.imwrite(f\"data/frames/{dirname}{filename}_frame_{count}.jpg\", image)     # save frame as JPEG file\n",
    "\n"
   ]
  },
  {
   "cell_type": "code",
   "execution_count": null,
   "metadata": {},
   "outputs": [],
   "source": [
    "# Export audio file to local wav file\n",
    "# Convert file format to an acceptable aws Transcribe file format\n",
    "audio = AudioSegment.from_file(audio_file_path)\n",
    "audio_response = audio.export(f'data/audio/{dirname}{filename}_audio.wav', format='wav')\n",
    "audio_response.close()"
   ]
  },
  {
   "cell_type": "code",
   "execution_count": null,
   "metadata": {},
   "outputs": [],
   "source": [
    "# Play audio as a check\n",
    "audio"
   ]
  },
  {
   "cell_type": "code",
   "execution_count": null,
   "metadata": {},
   "outputs": [],
   "source": [
    "# Get AWS S3 Bucket resources\n",
    "s3_resource = boto3.resource('s3')\n",
    "audio_bucket = s3_resource.Bucket('zebra-audio')\n",
    "text_bucket = s3_resource.Bucket('zebra-text')"
   ]
  },
  {
   "cell_type": "code",
   "execution_count": null,
   "metadata": {},
   "outputs": [],
   "source": [
    "# Upload audio file to S3\n",
    "audio_bucket.upload_file(Filename=f'data/audio/{dirname}{filename}_audio.wav', Key=f\"{filename}_audio.wav\")"
   ]
  },
  {
   "cell_type": "code",
   "execution_count": null,
   "metadata": {},
   "outputs": [],
   "source": [
    "# Create an aws transcribe client in the same region as the s3 buckets\n",
    "transcribe_client = boto3.client('transcribe', region_name='us-west-2')"
   ]
  },
  {
   "cell_type": "code",
   "execution_count": null,
   "metadata": {},
   "outputs": [],
   "source": [
    "# Start a Transcription job\n",
    "response = transcribe_client.start_transcription_job(\n",
    "    TranscriptionJobName=f\"{filename}_transcript\",\n",
    "    LanguageCode='en-US',\n",
    "    MediaFormat='wav',\n",
    "    Media={\n",
    "        'MediaFileUri': f\"https://s3-us-west-2.amazonaws.com/zebra-audio/{filename}_audio.wav\",\n",
    "    },\n",
    "    OutputBucketName=f'zebra-text'\n",
    ")"
   ]
  },
  {
   "cell_type": "code",
   "execution_count": null,
   "metadata": {},
   "outputs": [],
   "source": [
    "# Get body of transcribed file\n",
    "bucket_objs = text_bucket.objects.all()\n",
    "for ob in bucket_objs:\n",
    "    if f\"{filename}_transcript\" in ob.key:\n",
    "        body = ob.get()['Body'].read()"
   ]
  },
  {
   "cell_type": "code",
   "execution_count": null,
   "metadata": {},
   "outputs": [],
   "source": [
    "# Load transcript body into json and print raw text\n",
    "try:\n",
    "    text_json = json.loads(body)\n",
    "    transcript = text_json['results']['transcripts'][0]['transcript']\n",
    "    print(transcript)\n",
    "except NameError:\n",
    "    print(f\"Transcription Job is not done, try again in a few minutes\")"
   ]
  }
 ],
 "metadata": {
  "kernelspec": {
   "display_name": "Python 3",
   "language": "python",
   "name": "python3"
  },
  "language_info": {
   "codemirror_mode": {
    "name": "ipython",
    "version": 3
   },
   "file_extension": ".py",
   "mimetype": "text/x-python",
   "name": "python",
   "nbconvert_exporter": "python",
   "pygments_lexer": "ipython3",
   "version": "3.6.8"
  }
 },
 "nbformat": 4,
 "nbformat_minor": 2
}
